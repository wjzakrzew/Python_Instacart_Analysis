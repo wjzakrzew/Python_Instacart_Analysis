{
 "cells": [
  {
   "cell_type": "markdown",
   "id": "ba75eeb8-5867-46dc-93c4-6e234359fea5",
   "metadata": {},
   "source": [
    "#01. Importing libraries"
   ]
  },
  {
   "cell_type": "code",
   "execution_count": 2,
   "id": "91725d8e-b3b7-4c90-b34d-fd7c7c4210a7",
   "metadata": {},
   "outputs": [],
   "source": [
    "# Import libraries\n",
    "import pandas as pd\n",
    "import numpy as np\n",
    "import os"
   ]
  },
  {
   "cell_type": "code",
   "execution_count": 15,
   "id": "3f96215b-b835-4fc2-86ec-4a9620d0c932",
   "metadata": {},
   "outputs": [
    {
     "name": "stdout",
     "output_type": "stream",
     "text": [
      "100\n",
      "100\n",
      "100\n"
     ]
    }
   ],
   "source": [
    "#Way 1 of reaching 100\n",
    "x=10\n",
    "y=90\n",
    "print(x+y)\n",
    "\n",
    "#Way 2 of reaching 100\n",
    "z=120\n",
    "print(z-20)\n",
    "\n",
    "#Way 3 of reaching 100\n",
    "m=220\n",
    "print(m-z)"
   ]
  },
  {
   "cell_type": "code",
   "execution_count": 17,
   "id": "44708cc6-7b90-4d7f-a0cd-c78b7102fd18",
   "metadata": {},
   "outputs": [
    {
     "name": "stdout",
     "output_type": "stream",
     "text": [
      "5.0\n"
     ]
    }
   ],
   "source": [
    "#Floating Variables\n",
    "x=25.25\n",
    "y=5.05\n",
    "print(x/y)"
   ]
  },
  {
   "cell_type": "code",
   "execution_count": 22,
   "id": "423a2a29-dece-4b78-969a-46c966f87771",
   "metadata": {},
   "outputs": [
    {
     "name": "stdout",
     "output_type": "stream",
     "text": [
      "Mary had a a little lamb\n",
      "Mary had a a little lamb but Johnny did not\n"
     ]
    }
   ],
   "source": [
    "#Short words & Sentences\n",
    "x='Mary '\n",
    "y='had a '\n",
    "z='a little lamb'\n",
    "print (x+y+z)\n",
    "\n",
    "m=' but Johnny '\n",
    "n='did not'\n",
    "print (x+y+z+m+n)"
   ]
  },
  {
   "cell_type": "code",
   "execution_count": null,
   "id": "482df4c0-27a4-46c3-abd7-edf9a4c65bcf",
   "metadata": {},
   "outputs": [],
   "source": []
  }
 ],
 "metadata": {
  "kernelspec": {
   "display_name": "Python [conda env:base] *",
   "language": "python",
   "name": "conda-base-py"
  },
  "language_info": {
   "codemirror_mode": {
    "name": "ipython",
    "version": 3
   },
   "file_extension": ".py",
   "mimetype": "text/x-python",
   "name": "python",
   "nbconvert_exporter": "python",
   "pygments_lexer": "ipython3",
   "version": "3.13.5"
  }
 },
 "nbformat": 4,
 "nbformat_minor": 5
}

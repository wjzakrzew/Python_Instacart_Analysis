{
 "cells": [
  {
   "cell_type": "markdown",
   "id": "55b4b275-7003-4bc7-9d22-59f79c797464",
   "metadata": {},
   "source": [
    "Importing and File Location"
   ]
  },
  {
   "cell_type": "code",
   "execution_count": 5,
   "id": "e439279c-7ea8-4032-afbc-9583c3ff81b8",
   "metadata": {},
   "outputs": [],
   "source": [
    "#import libraries\n",
    "import pandas as pd\n",
    "import numpy as np\n",
    "import os\n",
    "\n",
    "#creating Paths\n",
    "path= r'C:\\Users\\wjzak\\Dropbox\\Career Foundry\\Data Immersion\\Module 4- Python Fundamentals for Data Analysts\\07-2025 Instacart Basket Analysis'\n",
    "\n",
    "#using the path to pull prepared data\n",
    "ords_prods_merge = pd.read_pickle(os.path.join(path, '02 Data', 'Prepared Data', 'ords_prods_merge.pkl'))"
   ]
  },
  {
   "cell_type": "code",
   "execution_count": 6,
   "id": "c2366f91-0dd0-4919-a05f-6456f8b67436",
   "metadata": {},
   "outputs": [
    {
     "data": {
      "text/plain": [
       "Index(['Unnamed: 0', 'product_id', 'product_name', 'aisle_id', 'department_id',\n",
       "       'prices', 'order_id', 'user_id', 'eval_set', 'order_number',\n",
       "       'order_dow', 'order_hour_of_day', 'days_since_prior_order',\n",
       "       'add_to_cart_order', 'reordered', '_merge'],\n",
       "      dtype='object')"
      ]
     },
     "execution_count": 6,
     "metadata": {},
     "output_type": "execute_result"
    }
   ],
   "source": [
    "ords_prods_merge.columns"
   ]
  },
  {
   "cell_type": "markdown",
   "id": "7f64ea0c-15de-45f3-b65f-c9f2a8513263",
   "metadata": {},
   "source": [
    "New Variables Exercise"
   ]
  },
  {
   "cell_type": "code",
   "execution_count": 2,
   "id": "7e5699cd-50d8-41d2-93d4-0d146fe10d30",
   "metadata": {},
   "outputs": [],
   "source": [
    "# Define function\n",
    "def add_num(x,y):\n",
    "    sum = x + y\n",
    "    return sum"
   ]
  },
  {
   "cell_type": "code",
   "execution_count": 3,
   "id": "5e73c60d-57b0-4dee-b8c2-57acd04f6e0f",
   "metadata": {},
   "outputs": [
    {
     "data": {
      "text/plain": [
       "20"
      ]
     },
     "execution_count": 3,
     "metadata": {},
     "output_type": "execute_result"
    }
   ],
   "source": [
    "#Run function\n",
    "add_num(9,11)"
   ]
  },
  {
   "cell_type": "code",
   "execution_count": 4,
   "id": "5199fae8-7cd8-4f3e-a15f-27f3fc02b185",
   "metadata": {},
   "outputs": [],
   "source": [
    "#create subset\n",
    "df = ords_prods_merge[:1000000]"
   ]
  },
  {
   "cell_type": "code",
   "execution_count": 5,
   "id": "b9ed57d1-0e69-4ef6-95e6-873433131346",
   "metadata": {},
   "outputs": [],
   "source": [
    "#defines a price label function that is determined by several if/elseif statements\n",
    "def price_label(row):\n",
    "\n",
    "  if row['prices'] <= 5:\n",
    "    return 'Low-range product'\n",
    "  elif (row['prices'] > 5) and (row['prices'] <= 15):\n",
    "    return 'Mid-range product'\n",
    "  elif row['prices'] > 15:\n",
    "    return 'High range'\n",
    "  else: return 'Not enough data'"
   ]
  },
  {
   "cell_type": "code",
   "execution_count": 6,
   "id": "acd42b9e-6409-477d-95c9-6931ccf55fa9",
   "metadata": {},
   "outputs": [
    {
     "name": "stderr",
     "output_type": "stream",
     "text": [
      "C:\\Users\\wjzak\\AppData\\Local\\Temp\\ipykernel_30968\\748875041.py:2: SettingWithCopyWarning: \n",
      "A value is trying to be set on a copy of a slice from a DataFrame.\n",
      "Try using .loc[row_indexer,col_indexer] = value instead\n",
      "\n",
      "See the caveats in the documentation: https://pandas.pydata.org/pandas-docs/stable/user_guide/indexing.html#returning-a-view-versus-a-copy\n",
      "  df['price_range'] = df.apply(price_label, axis=1)\n"
     ]
    }
   ],
   "source": [
    "#apply the function\n",
    "df['price_range'] = df.apply(price_label, axis=1)"
   ]
  },
  {
   "cell_type": "code",
   "execution_count": 7,
   "id": "6e2e8074-4ee7-42cf-958f-46ac345709c5",
   "metadata": {},
   "outputs": [
    {
     "data": {
      "text/plain": [
       "price_range\n",
       "Mid-range product    634889\n",
       "Low-range product    331220\n",
       "Not enough data       24547\n",
       "High range             9344\n",
       "Name: count, dtype: int64"
      ]
     },
     "execution_count": 7,
     "metadata": {},
     "output_type": "execute_result"
    }
   ],
   "source": [
    "df['price_range'].value_counts(dropna= False)"
   ]
  },
  {
   "cell_type": "code",
   "execution_count": 8,
   "id": "a0f876a9-b49f-4893-90f4-79341dd79705",
   "metadata": {},
   "outputs": [
    {
     "name": "stderr",
     "output_type": "stream",
     "text": [
      "C:\\Users\\wjzak\\AppData\\Local\\Temp\\ipykernel_30968\\3597510009.py:2: SettingWithCopyWarning: \n",
      "A value is trying to be set on a copy of a slice from a DataFrame.\n",
      "Try using .loc[row_indexer,col_indexer] = value instead\n",
      "\n",
      "See the caveats in the documentation: https://pandas.pydata.org/pandas-docs/stable/user_guide/indexing.html#returning-a-view-versus-a-copy\n",
      "  df.loc[df['prices'] > 15, 'price_range_loc'] = 'High-range product'\n"
     ]
    }
   ],
   "source": [
    "#creating conditions- condition 1\n",
    "df.loc[df['prices'] > 15, 'price_range_loc'] = 'High-range product'"
   ]
  },
  {
   "cell_type": "code",
   "execution_count": 9,
   "id": "513ef22c-4ca8-43ac-9d5e-30c4cc9509ef",
   "metadata": {},
   "outputs": [],
   "source": [
    "#condition 2\n",
    "df.loc[(df['prices'] <= 15) & (df['prices'] > 5), 'price_range_loc'] = 'Mid-range product' "
   ]
  },
  {
   "cell_type": "code",
   "execution_count": 10,
   "id": "f2172281-2af1-4b2d-8161-c94c75aa1705",
   "metadata": {},
   "outputs": [],
   "source": [
    "#condition 3\n",
    "df.loc[df['prices'] <= 5, 'price_range_loc'] = 'Low-range product'"
   ]
  },
  {
   "cell_type": "code",
   "execution_count": 11,
   "id": "e3f556a1-0439-431f-abb8-0ef968f3b0fa",
   "metadata": {},
   "outputs": [
    {
     "data": {
      "text/plain": [
       "price_range_loc\n",
       "Mid-range product     634889\n",
       "Low-range product     331220\n",
       "NaN                    24547\n",
       "High-range product      9344\n",
       "Name: count, dtype: int64"
      ]
     },
     "execution_count": 11,
     "metadata": {},
     "output_type": "execute_result"
    }
   ],
   "source": [
    "#counts for the conditions created above\n",
    "df['price_range_loc'].value_counts(dropna= False)"
   ]
  },
  {
   "cell_type": "code",
   "execution_count": 12,
   "id": "74862fb6-f9ae-4f21-b728-d08a7cb85810",
   "metadata": {},
   "outputs": [],
   "source": [
    "#creating conditions for orders and product dataset\n",
    "ords_prods_merge.loc[ords_prods_merge['prices'] > 15, 'price_range_loc'] = 'High-range product'"
   ]
  },
  {
   "cell_type": "code",
   "execution_count": 13,
   "id": "1b19a356-5563-489a-b21c-432f43ed41bc",
   "metadata": {},
   "outputs": [],
   "source": [
    "ords_prods_merge.loc[(ords_prods_merge['prices'] <= 15) & (ords_prods_merge['prices'] > 5), 'price_range_loc'] = 'Mid-range product'"
   ]
  },
  {
   "cell_type": "code",
   "execution_count": 14,
   "id": "699fcb24-e4a9-4400-807f-e29309bdf866",
   "metadata": {},
   "outputs": [],
   "source": [
    "ords_prods_merge.loc[ords_prods_merge['prices'] <= 5, 'price_range_loc'] = 'Low-range product'"
   ]
  },
  {
   "cell_type": "code",
   "execution_count": null,
   "id": "9bdc96f3-626f-496a-a873-fe3aaf3237f1",
   "metadata": {},
   "outputs": [],
   "source": [
    "ords_prods_merge"
   ]
  },
  {
   "cell_type": "code",
   "execution_count": 118,
   "id": "af85bfbf-d5ef-40bd-934a-4d7b6efdef58",
   "metadata": {},
   "outputs": [],
   "source": [
    "#drop this missing data also missed during previous cleanup\n",
    "ords_prods_merge = ords_prods_merge.dropna(subset=['price_range_loc'])"
   ]
  },
  {
   "cell_type": "code",
   "execution_count": 119,
   "id": "ac62568e-762f-4a82-8915-965d8e146d87",
   "metadata": {},
   "outputs": [
    {
     "data": {
      "text/plain": [
       "price_range_loc\n",
       "Mid-range product     21860868\n",
       "Low-range product     10126324\n",
       "High-range product      417678\n",
       "Name: count, dtype: int64"
      ]
     },
     "execution_count": 119,
     "metadata": {},
     "output_type": "execute_result"
    }
   ],
   "source": [
    "#counts for the conditions created above\n",
    "ords_prods_merge['price_range_loc'].value_counts(dropna= False)"
   ]
  },
  {
   "cell_type": "code",
   "execution_count": 120,
   "id": "93eb3681-7ffa-4754-9127-bb1dd39a15ef",
   "metadata": {},
   "outputs": [],
   "source": [
    "#dropping the few missing data missed during previous cleanup\n",
    "ords_prods_merge = ords_prods_merge.dropna(subset=['order_dow'])"
   ]
  },
  {
   "cell_type": "code",
   "execution_count": 121,
   "id": "3e811584-cfb0-4248-bcc4-59a15155c4bc",
   "metadata": {},
   "outputs": [
    {
     "data": {
      "text/plain": [
       "order_dow\n",
       "0.0    6204182\n",
       "1.0    5660230\n",
       "6.0    4496490\n",
       "2.0    4213830\n",
       "5.0    4205791\n",
       "3.0    3840534\n",
       "4.0    3783802\n",
       "Name: count, dtype: int64"
      ]
     },
     "execution_count": 121,
     "metadata": {},
     "output_type": "execute_result"
    }
   ],
   "source": [
    "ords_prods_merge['order_dow'].value_counts(dropna=False)"
   ]
  },
  {
   "cell_type": "code",
   "execution_count": 122,
   "id": "8ae251d3-7a11-448b-86d7-28838263b989",
   "metadata": {},
   "outputs": [],
   "source": [
    "result = []\n",
    "\n",
    "for value in ords_prods_merge[\"order_dow\"]:\n",
    "  if value == 0:\n",
    "    result.append(\"Busiest day\")\n",
    "  elif value == 4:\n",
    "    result.append(\"Least busy\")\n",
    "  else:\n",
    "    result.append(\"Regularly busy\")"
   ]
  },
  {
   "cell_type": "code",
   "execution_count": 123,
   "id": "28c6783c-ef64-4d48-9430-738c26e9add4",
   "metadata": {},
   "outputs": [],
   "source": [
    "#reports the results- this is long and was commented out to keep the process easier to follow\n",
    "#result"
   ]
  },
  {
   "cell_type": "code",
   "execution_count": 124,
   "id": "c4a7bcb3-b73c-43dd-958e-fb4215639aa1",
   "metadata": {},
   "outputs": [],
   "source": [
    "ords_prods_merge['busiest_day']=result"
   ]
  },
  {
   "cell_type": "code",
   "execution_count": 125,
   "id": "abfba37e-9c17-45a5-b8da-109f0617af43",
   "metadata": {
    "scrolled": true
   },
   "outputs": [
    {
     "data": {
      "text/plain": [
       "busiest_day\n",
       "Regularly busy    22416875\n",
       "Busiest day        6204182\n",
       "Least busy         3783802\n",
       "Name: count, dtype: int64"
      ]
     },
     "execution_count": 125,
     "metadata": {},
     "output_type": "execute_result"
    }
   ],
   "source": [
    "ords_prods_merge['busiest_day'].value_counts(dropna=False)"
   ]
  },
  {
   "cell_type": "code",
   "execution_count": 126,
   "id": "0b6ded30-cc32-4adc-800a-d4570a69a826",
   "metadata": {},
   "outputs": [
    {
     "data": {
      "text/html": [
       "<div>\n",
       "<style scoped>\n",
       "    .dataframe tbody tr th:only-of-type {\n",
       "        vertical-align: middle;\n",
       "    }\n",
       "\n",
       "    .dataframe tbody tr th {\n",
       "        vertical-align: top;\n",
       "    }\n",
       "\n",
       "    .dataframe thead th {\n",
       "        text-align: right;\n",
       "    }\n",
       "</style>\n",
       "<table border=\"1\" class=\"dataframe\">\n",
       "  <thead>\n",
       "    <tr style=\"text-align: right;\">\n",
       "      <th></th>\n",
       "      <th>Unnamed: 0</th>\n",
       "      <th>product_id</th>\n",
       "      <th>product_name</th>\n",
       "      <th>aisle_id</th>\n",
       "      <th>department_id</th>\n",
       "      <th>prices</th>\n",
       "      <th>order_id</th>\n",
       "      <th>user_id</th>\n",
       "      <th>eval_set</th>\n",
       "      <th>order_number</th>\n",
       "      <th>order_dow</th>\n",
       "      <th>order_hour_of_day</th>\n",
       "      <th>days_since_prior_order</th>\n",
       "      <th>add_to_cart_order</th>\n",
       "      <th>reordered</th>\n",
       "      <th>_merge</th>\n",
       "      <th>price_range_loc</th>\n",
       "      <th>busiest_day</th>\n",
       "    </tr>\n",
       "  </thead>\n",
       "  <tbody>\n",
       "    <tr>\n",
       "      <th>0</th>\n",
       "      <td>0.0</td>\n",
       "      <td>1</td>\n",
       "      <td>Chocolate Sandwich Cookies</td>\n",
       "      <td>61.0</td>\n",
       "      <td>19.0</td>\n",
       "      <td>5.8</td>\n",
       "      <td>3139998.0</td>\n",
       "      <td>138.0</td>\n",
       "      <td>prior</td>\n",
       "      <td>28.0</td>\n",
       "      <td>6.0</td>\n",
       "      <td>11.0</td>\n",
       "      <td>3.0</td>\n",
       "      <td>5.0</td>\n",
       "      <td>0.0</td>\n",
       "      <td>both</td>\n",
       "      <td>Mid-range product</td>\n",
       "      <td>Regularly busy</td>\n",
       "    </tr>\n",
       "    <tr>\n",
       "      <th>1</th>\n",
       "      <td>0.0</td>\n",
       "      <td>1</td>\n",
       "      <td>Chocolate Sandwich Cookies</td>\n",
       "      <td>61.0</td>\n",
       "      <td>19.0</td>\n",
       "      <td>5.8</td>\n",
       "      <td>1977647.0</td>\n",
       "      <td>138.0</td>\n",
       "      <td>prior</td>\n",
       "      <td>30.0</td>\n",
       "      <td>6.0</td>\n",
       "      <td>17.0</td>\n",
       "      <td>20.0</td>\n",
       "      <td>1.0</td>\n",
       "      <td>1.0</td>\n",
       "      <td>both</td>\n",
       "      <td>Mid-range product</td>\n",
       "      <td>Regularly busy</td>\n",
       "    </tr>\n",
       "    <tr>\n",
       "      <th>2</th>\n",
       "      <td>0.0</td>\n",
       "      <td>1</td>\n",
       "      <td>Chocolate Sandwich Cookies</td>\n",
       "      <td>61.0</td>\n",
       "      <td>19.0</td>\n",
       "      <td>5.8</td>\n",
       "      <td>389851.0</td>\n",
       "      <td>709.0</td>\n",
       "      <td>prior</td>\n",
       "      <td>2.0</td>\n",
       "      <td>0.0</td>\n",
       "      <td>21.0</td>\n",
       "      <td>6.0</td>\n",
       "      <td>20.0</td>\n",
       "      <td>0.0</td>\n",
       "      <td>both</td>\n",
       "      <td>Mid-range product</td>\n",
       "      <td>Busiest day</td>\n",
       "    </tr>\n",
       "    <tr>\n",
       "      <th>3</th>\n",
       "      <td>0.0</td>\n",
       "      <td>1</td>\n",
       "      <td>Chocolate Sandwich Cookies</td>\n",
       "      <td>61.0</td>\n",
       "      <td>19.0</td>\n",
       "      <td>5.8</td>\n",
       "      <td>652770.0</td>\n",
       "      <td>764.0</td>\n",
       "      <td>prior</td>\n",
       "      <td>1.0</td>\n",
       "      <td>3.0</td>\n",
       "      <td>13.0</td>\n",
       "      <td>NaN</td>\n",
       "      <td>10.0</td>\n",
       "      <td>0.0</td>\n",
       "      <td>both</td>\n",
       "      <td>Mid-range product</td>\n",
       "      <td>Regularly busy</td>\n",
       "    </tr>\n",
       "    <tr>\n",
       "      <th>4</th>\n",
       "      <td>0.0</td>\n",
       "      <td>1</td>\n",
       "      <td>Chocolate Sandwich Cookies</td>\n",
       "      <td>61.0</td>\n",
       "      <td>19.0</td>\n",
       "      <td>5.8</td>\n",
       "      <td>1813452.0</td>\n",
       "      <td>764.0</td>\n",
       "      <td>prior</td>\n",
       "      <td>3.0</td>\n",
       "      <td>4.0</td>\n",
       "      <td>17.0</td>\n",
       "      <td>9.0</td>\n",
       "      <td>11.0</td>\n",
       "      <td>1.0</td>\n",
       "      <td>both</td>\n",
       "      <td>Mid-range product</td>\n",
       "      <td>Least busy</td>\n",
       "    </tr>\n",
       "  </tbody>\n",
       "</table>\n",
       "</div>"
      ],
      "text/plain": [
       "   Unnamed: 0  product_id                product_name  aisle_id  \\\n",
       "0         0.0           1  Chocolate Sandwich Cookies      61.0   \n",
       "1         0.0           1  Chocolate Sandwich Cookies      61.0   \n",
       "2         0.0           1  Chocolate Sandwich Cookies      61.0   \n",
       "3         0.0           1  Chocolate Sandwich Cookies      61.0   \n",
       "4         0.0           1  Chocolate Sandwich Cookies      61.0   \n",
       "\n",
       "   department_id  prices   order_id  user_id eval_set  order_number  \\\n",
       "0           19.0     5.8  3139998.0    138.0    prior          28.0   \n",
       "1           19.0     5.8  1977647.0    138.0    prior          30.0   \n",
       "2           19.0     5.8   389851.0    709.0    prior           2.0   \n",
       "3           19.0     5.8   652770.0    764.0    prior           1.0   \n",
       "4           19.0     5.8  1813452.0    764.0    prior           3.0   \n",
       "\n",
       "   order_dow  order_hour_of_day  days_since_prior_order  add_to_cart_order  \\\n",
       "0        6.0               11.0                     3.0                5.0   \n",
       "1        6.0               17.0                    20.0                1.0   \n",
       "2        0.0               21.0                     6.0               20.0   \n",
       "3        3.0               13.0                     NaN               10.0   \n",
       "4        4.0               17.0                     9.0               11.0   \n",
       "\n",
       "   reordered _merge    price_range_loc     busiest_day  \n",
       "0        0.0   both  Mid-range product  Regularly busy  \n",
       "1        1.0   both  Mid-range product  Regularly busy  \n",
       "2        0.0   both  Mid-range product     Busiest day  \n",
       "3        0.0   both  Mid-range product  Regularly busy  \n",
       "4        1.0   both  Mid-range product      Least busy  "
      ]
     },
     "execution_count": 126,
     "metadata": {},
     "output_type": "execute_result"
    }
   ],
   "source": [
    "ords_prods_merge.head()"
   ]
  },
  {
   "cell_type": "code",
   "execution_count": 127,
   "id": "994c15af-be38-4264-bfdf-5e8abcb6db50",
   "metadata": {},
   "outputs": [],
   "source": [
    "#this command renames the price range created to a price label as directed by the task\n",
    "ords_prods_merge.rename(columns={'price_range_loc': 'price_label'}, inplace=True)"
   ]
  },
  {
   "cell_type": "code",
   "execution_count": 128,
   "id": "e807ab63-9a77-48a9-908f-70e8358c474e",
   "metadata": {},
   "outputs": [
    {
     "data": {
      "text/html": [
       "<div>\n",
       "<style scoped>\n",
       "    .dataframe tbody tr th:only-of-type {\n",
       "        vertical-align: middle;\n",
       "    }\n",
       "\n",
       "    .dataframe tbody tr th {\n",
       "        vertical-align: top;\n",
       "    }\n",
       "\n",
       "    .dataframe thead th {\n",
       "        text-align: right;\n",
       "    }\n",
       "</style>\n",
       "<table border=\"1\" class=\"dataframe\">\n",
       "  <thead>\n",
       "    <tr style=\"text-align: right;\">\n",
       "      <th></th>\n",
       "      <th>Unnamed: 0</th>\n",
       "      <th>product_id</th>\n",
       "      <th>product_name</th>\n",
       "      <th>aisle_id</th>\n",
       "      <th>department_id</th>\n",
       "      <th>prices</th>\n",
       "      <th>order_id</th>\n",
       "      <th>user_id</th>\n",
       "      <th>eval_set</th>\n",
       "      <th>order_number</th>\n",
       "      <th>order_dow</th>\n",
       "      <th>order_hour_of_day</th>\n",
       "      <th>days_since_prior_order</th>\n",
       "      <th>add_to_cart_order</th>\n",
       "      <th>reordered</th>\n",
       "      <th>_merge</th>\n",
       "      <th>price_label</th>\n",
       "      <th>busiest_day</th>\n",
       "    </tr>\n",
       "  </thead>\n",
       "  <tbody>\n",
       "    <tr>\n",
       "      <th>0</th>\n",
       "      <td>0.0</td>\n",
       "      <td>1</td>\n",
       "      <td>Chocolate Sandwich Cookies</td>\n",
       "      <td>61.0</td>\n",
       "      <td>19.0</td>\n",
       "      <td>5.8</td>\n",
       "      <td>3139998.0</td>\n",
       "      <td>138.0</td>\n",
       "      <td>prior</td>\n",
       "      <td>28.0</td>\n",
       "      <td>6.0</td>\n",
       "      <td>11.0</td>\n",
       "      <td>3.0</td>\n",
       "      <td>5.0</td>\n",
       "      <td>0.0</td>\n",
       "      <td>both</td>\n",
       "      <td>Mid-range product</td>\n",
       "      <td>Regularly busy</td>\n",
       "    </tr>\n",
       "    <tr>\n",
       "      <th>1</th>\n",
       "      <td>0.0</td>\n",
       "      <td>1</td>\n",
       "      <td>Chocolate Sandwich Cookies</td>\n",
       "      <td>61.0</td>\n",
       "      <td>19.0</td>\n",
       "      <td>5.8</td>\n",
       "      <td>1977647.0</td>\n",
       "      <td>138.0</td>\n",
       "      <td>prior</td>\n",
       "      <td>30.0</td>\n",
       "      <td>6.0</td>\n",
       "      <td>17.0</td>\n",
       "      <td>20.0</td>\n",
       "      <td>1.0</td>\n",
       "      <td>1.0</td>\n",
       "      <td>both</td>\n",
       "      <td>Mid-range product</td>\n",
       "      <td>Regularly busy</td>\n",
       "    </tr>\n",
       "    <tr>\n",
       "      <th>2</th>\n",
       "      <td>0.0</td>\n",
       "      <td>1</td>\n",
       "      <td>Chocolate Sandwich Cookies</td>\n",
       "      <td>61.0</td>\n",
       "      <td>19.0</td>\n",
       "      <td>5.8</td>\n",
       "      <td>389851.0</td>\n",
       "      <td>709.0</td>\n",
       "      <td>prior</td>\n",
       "      <td>2.0</td>\n",
       "      <td>0.0</td>\n",
       "      <td>21.0</td>\n",
       "      <td>6.0</td>\n",
       "      <td>20.0</td>\n",
       "      <td>0.0</td>\n",
       "      <td>both</td>\n",
       "      <td>Mid-range product</td>\n",
       "      <td>Busiest day</td>\n",
       "    </tr>\n",
       "    <tr>\n",
       "      <th>3</th>\n",
       "      <td>0.0</td>\n",
       "      <td>1</td>\n",
       "      <td>Chocolate Sandwich Cookies</td>\n",
       "      <td>61.0</td>\n",
       "      <td>19.0</td>\n",
       "      <td>5.8</td>\n",
       "      <td>652770.0</td>\n",
       "      <td>764.0</td>\n",
       "      <td>prior</td>\n",
       "      <td>1.0</td>\n",
       "      <td>3.0</td>\n",
       "      <td>13.0</td>\n",
       "      <td>NaN</td>\n",
       "      <td>10.0</td>\n",
       "      <td>0.0</td>\n",
       "      <td>both</td>\n",
       "      <td>Mid-range product</td>\n",
       "      <td>Regularly busy</td>\n",
       "    </tr>\n",
       "    <tr>\n",
       "      <th>4</th>\n",
       "      <td>0.0</td>\n",
       "      <td>1</td>\n",
       "      <td>Chocolate Sandwich Cookies</td>\n",
       "      <td>61.0</td>\n",
       "      <td>19.0</td>\n",
       "      <td>5.8</td>\n",
       "      <td>1813452.0</td>\n",
       "      <td>764.0</td>\n",
       "      <td>prior</td>\n",
       "      <td>3.0</td>\n",
       "      <td>4.0</td>\n",
       "      <td>17.0</td>\n",
       "      <td>9.0</td>\n",
       "      <td>11.0</td>\n",
       "      <td>1.0</td>\n",
       "      <td>both</td>\n",
       "      <td>Mid-range product</td>\n",
       "      <td>Least busy</td>\n",
       "    </tr>\n",
       "  </tbody>\n",
       "</table>\n",
       "</div>"
      ],
      "text/plain": [
       "   Unnamed: 0  product_id                product_name  aisle_id  \\\n",
       "0         0.0           1  Chocolate Sandwich Cookies      61.0   \n",
       "1         0.0           1  Chocolate Sandwich Cookies      61.0   \n",
       "2         0.0           1  Chocolate Sandwich Cookies      61.0   \n",
       "3         0.0           1  Chocolate Sandwich Cookies      61.0   \n",
       "4         0.0           1  Chocolate Sandwich Cookies      61.0   \n",
       "\n",
       "   department_id  prices   order_id  user_id eval_set  order_number  \\\n",
       "0           19.0     5.8  3139998.0    138.0    prior          28.0   \n",
       "1           19.0     5.8  1977647.0    138.0    prior          30.0   \n",
       "2           19.0     5.8   389851.0    709.0    prior           2.0   \n",
       "3           19.0     5.8   652770.0    764.0    prior           1.0   \n",
       "4           19.0     5.8  1813452.0    764.0    prior           3.0   \n",
       "\n",
       "   order_dow  order_hour_of_day  days_since_prior_order  add_to_cart_order  \\\n",
       "0        6.0               11.0                     3.0                5.0   \n",
       "1        6.0               17.0                    20.0                1.0   \n",
       "2        0.0               21.0                     6.0               20.0   \n",
       "3        3.0               13.0                     NaN               10.0   \n",
       "4        4.0               17.0                     9.0               11.0   \n",
       "\n",
       "   reordered _merge        price_label     busiest_day  \n",
       "0        0.0   both  Mid-range product  Regularly busy  \n",
       "1        1.0   both  Mid-range product  Regularly busy  \n",
       "2        0.0   both  Mid-range product     Busiest day  \n",
       "3        0.0   both  Mid-range product  Regularly busy  \n",
       "4        1.0   both  Mid-range product      Least busy  "
      ]
     },
     "execution_count": 128,
     "metadata": {},
     "output_type": "execute_result"
    }
   ],
   "source": [
    "ords_prods_merge.head()"
   ]
  },
  {
   "cell_type": "markdown",
   "id": "eb1a1cab-26bd-42fe-8ebd-36d7869267a6",
   "metadata": {},
   "source": [
    "Task 4.7---"
   ]
  },
  {
   "cell_type": "code",
   "execution_count": 129,
   "id": "7e486b68-b9c7-4ac1-8152-1aed0e18be9e",
   "metadata": {},
   "outputs": [],
   "source": [
    "result = []\n",
    "\n",
    "for value in ords_prods_merge[\"order_dow\"]:\n",
    "  if value == 0 or value == 1:\n",
    "    result.append(\"Busiest Days\")\n",
    "  elif value == 4 or value == 3 :\n",
    "    result.append(\"Slowest Days\")\n",
    "  else:\n",
    "    result.append(\"Regularly Busy\")"
   ]
  },
  {
   "cell_type": "code",
   "execution_count": 130,
   "id": "110ae01f-f90b-4a26-a635-0073099d7bbf",
   "metadata": {},
   "outputs": [],
   "source": [
    "ords_prods_merge['busiest_day']=result"
   ]
  },
  {
   "cell_type": "code",
   "execution_count": 131,
   "id": "6e5738dc-e8dd-487d-b3d1-d38c228cc5b2",
   "metadata": {},
   "outputs": [
    {
     "data": {
      "text/plain": [
       "busiest_day\n",
       "Regularly Busy    12916111\n",
       "Busiest Days      11864412\n",
       "Slowest Days       7624336\n",
       "Name: count, dtype: int64"
      ]
     },
     "execution_count": 131,
     "metadata": {},
     "output_type": "execute_result"
    }
   ],
   "source": [
    "ords_prods_merge['busiest_day'].value_counts(dropna=False)"
   ]
  },
  {
   "cell_type": "markdown",
   "id": "6e01d2ce-d163-429c-aaa2-162b51cc7013",
   "metadata": {},
   "source": [
    "3) The second busiest day ends up changing this number by quite a bit. This was very similar to the first output but should give a better idea that the 2 busiest days are almost equivalent to the 3 regular busy days in terms of scale of sales/app usage"
   ]
  },
  {
   "cell_type": "raw",
   "id": "fc1af021-7d44-4971-a20a-c88c80f6f131",
   "metadata": {},
   "source": [
    "ords_prods_merge.head()"
   ]
  },
  {
   "cell_type": "code",
   "execution_count": 132,
   "id": "86a419f5-46da-4cc3-8647-fa11f0e00d39",
   "metadata": {},
   "outputs": [
    {
     "data": {
      "text/plain": [
       "order_hour_of_day\n",
       "10.0    2761760\n",
       "11.0    2736140\n",
       "14.0    2689136\n",
       "15.0    2662144\n",
       "13.0    2660954\n",
       "12.0    2618532\n",
       "16.0    2535202\n",
       "9.0     2454203\n",
       "17.0    2087654\n",
       "8.0     1718118\n",
       "18.0    1636502\n",
       "19.0    1258305\n",
       "20.0     976156\n",
       "7.0      891054\n",
       "21.0     795637\n",
       "22.0     634225\n",
       "23.0     402316\n",
       "6.0      290493\n",
       "0.0      218769\n",
       "1.0      115700\n",
       "5.0       87961\n",
       "2.0       69375\n",
       "4.0       53242\n",
       "3.0       51281\n",
       "Name: count, dtype: int64"
      ]
     },
     "execution_count": 132,
     "metadata": {},
     "output_type": "execute_result"
    }
   ],
   "source": [
    "ords_prods_merge['order_hour_of_day'].value_counts(dropna=False)"
   ]
  },
  {
   "cell_type": "code",
   "execution_count": 133,
   "id": "eae8b565-7645-4ccb-8c5a-cc08fbf8a078",
   "metadata": {},
   "outputs": [],
   "source": [
    "#I need the count data here and this helps me get that and add it to the table to use\n",
    "counts_series = ords_prods_merge['order_hour_of_day'].value_counts(dropna=False)"
   ]
  },
  {
   "cell_type": "code",
   "execution_count": 135,
   "id": "34781d6e-6bde-4329-8c50-8d9b7f176e26",
   "metadata": {},
   "outputs": [],
   "source": [
    "#Convert hours of day to a count column\n",
    "counts_df = counts_series.rename_axis('order_hour_of_day').reset_index(name='count')"
   ]
  },
  {
   "cell_type": "code",
   "execution_count": 136,
   "id": "2e4a7769-755c-4a14-8a9b-c7041aa439ab",
   "metadata": {},
   "outputs": [],
   "source": [
    "#Merge counts onto large df\n",
    "ords_prods_merge = ords_prods_merge.merge(counts_df, on='order_hour_of_day', how='left')"
   ]
  },
  {
   "cell_type": "code",
   "execution_count": 137,
   "id": "4a6ce4a6-bc2d-4ed6-8240-b59c869c9ac1",
   "metadata": {},
   "outputs": [],
   "source": [
    "#creating conditions for orders and product dataset\n",
    "ords_prods_merge.loc[ords_prods_merge['count'] > 2000000, 'busiest_period_of_day'] = 'Most orders'"
   ]
  },
  {
   "cell_type": "code",
   "execution_count": 138,
   "id": "f15c10dd-2610-49f5-84f6-b47571dc5751",
   "metadata": {},
   "outputs": [],
   "source": [
    "ords_prods_merge.loc[(ords_prods_merge['count'] <= 2000000) & (ords_prods_merge['count'] > 500000), 'busiest_period_of_day'] = 'Average orders'"
   ]
  },
  {
   "cell_type": "code",
   "execution_count": 141,
   "id": "a2231be5-65c1-4de3-996f-cbbc45f902db",
   "metadata": {},
   "outputs": [],
   "source": [
    "ords_prods_merge.loc[ords_prods_merge['count'] <= 500000, 'busiest_period_of_day'] = 'Fewest orders'"
   ]
  },
  {
   "cell_type": "code",
   "execution_count": 142,
   "id": "4c29ad8a-610c-4e90-804a-f8f582242d71",
   "metadata": {},
   "outputs": [
    {
     "data": {
      "text/plain": [
       "busiest_period_of_day\n",
       "Most orders       23205725\n",
       "Average orders     7909997\n",
       "Fewest orders      1289137\n",
       "Name: count, dtype: int64"
      ]
     },
     "execution_count": 142,
     "metadata": {},
     "output_type": "execute_result"
    }
   ],
   "source": [
    "#counts for the conditions created above\n",
    "ords_prods_merge['busiest_period_of_day'].value_counts(dropna= False)"
   ]
  },
  {
   "cell_type": "code",
   "execution_count": 143,
   "id": "d5aa9dfd-241a-4b6d-a64d-c1f4bf35ebec",
   "metadata": {},
   "outputs": [
    {
     "name": "stdout",
     "output_type": "stream",
     "text": [
      "0              Most orders\n",
      "1              Most orders\n",
      "2           Average orders\n",
      "3              Most orders\n",
      "4              Most orders\n",
      "                 ...      \n",
      "32404854       Most orders\n",
      "32404855       Most orders\n",
      "32404856    Average orders\n",
      "32404857       Most orders\n",
      "32404858       Most orders\n",
      "Name: busiest_period_of_day, Length: 32404859, dtype: object\n"
     ]
    }
   ],
   "source": [
    "print(ords_prods_merge['busiest_period_of_day'])"
   ]
  },
  {
   "cell_type": "markdown",
   "id": "e0c89a7f-506d-4e9e-8966-8cdd268b8d24",
   "metadata": {},
   "source": [
    "The count cutoffs are over 2 million for most orders, between that and 500k for most orders, and under 500k for Fewest orders."
   ]
  },
  {
   "cell_type": "code",
   "execution_count": 144,
   "id": "9db8f3d6-b323-41b0-aa43-804eb2515ed9",
   "metadata": {},
   "outputs": [
    {
     "data": {
      "text/html": [
       "<div>\n",
       "<style scoped>\n",
       "    .dataframe tbody tr th:only-of-type {\n",
       "        vertical-align: middle;\n",
       "    }\n",
       "\n",
       "    .dataframe tbody tr th {\n",
       "        vertical-align: top;\n",
       "    }\n",
       "\n",
       "    .dataframe thead th {\n",
       "        text-align: right;\n",
       "    }\n",
       "</style>\n",
       "<table border=\"1\" class=\"dataframe\">\n",
       "  <thead>\n",
       "    <tr style=\"text-align: right;\">\n",
       "      <th></th>\n",
       "      <th>Unnamed: 0</th>\n",
       "      <th>product_id</th>\n",
       "      <th>product_name</th>\n",
       "      <th>aisle_id</th>\n",
       "      <th>department_id</th>\n",
       "      <th>prices</th>\n",
       "      <th>order_id</th>\n",
       "      <th>user_id</th>\n",
       "      <th>eval_set</th>\n",
       "      <th>order_number</th>\n",
       "      <th>order_dow</th>\n",
       "      <th>order_hour_of_day</th>\n",
       "      <th>days_since_prior_order</th>\n",
       "      <th>add_to_cart_order</th>\n",
       "      <th>reordered</th>\n",
       "      <th>_merge</th>\n",
       "      <th>price_label</th>\n",
       "      <th>busiest_day</th>\n",
       "      <th>count</th>\n",
       "      <th>busiest_period_of_day</th>\n",
       "    </tr>\n",
       "  </thead>\n",
       "  <tbody>\n",
       "    <tr>\n",
       "      <th>0</th>\n",
       "      <td>0.0</td>\n",
       "      <td>1</td>\n",
       "      <td>Chocolate Sandwich Cookies</td>\n",
       "      <td>61.0</td>\n",
       "      <td>19.0</td>\n",
       "      <td>5.8</td>\n",
       "      <td>3139998.0</td>\n",
       "      <td>138.0</td>\n",
       "      <td>prior</td>\n",
       "      <td>28.0</td>\n",
       "      <td>6.0</td>\n",
       "      <td>11.0</td>\n",
       "      <td>3.0</td>\n",
       "      <td>5.0</td>\n",
       "      <td>0.0</td>\n",
       "      <td>both</td>\n",
       "      <td>Mid-range product</td>\n",
       "      <td>Regularly Busy</td>\n",
       "      <td>2736140</td>\n",
       "      <td>Most orders</td>\n",
       "    </tr>\n",
       "    <tr>\n",
       "      <th>1</th>\n",
       "      <td>0.0</td>\n",
       "      <td>1</td>\n",
       "      <td>Chocolate Sandwich Cookies</td>\n",
       "      <td>61.0</td>\n",
       "      <td>19.0</td>\n",
       "      <td>5.8</td>\n",
       "      <td>1977647.0</td>\n",
       "      <td>138.0</td>\n",
       "      <td>prior</td>\n",
       "      <td>30.0</td>\n",
       "      <td>6.0</td>\n",
       "      <td>17.0</td>\n",
       "      <td>20.0</td>\n",
       "      <td>1.0</td>\n",
       "      <td>1.0</td>\n",
       "      <td>both</td>\n",
       "      <td>Mid-range product</td>\n",
       "      <td>Regularly Busy</td>\n",
       "      <td>2087654</td>\n",
       "      <td>Most orders</td>\n",
       "    </tr>\n",
       "    <tr>\n",
       "      <th>2</th>\n",
       "      <td>0.0</td>\n",
       "      <td>1</td>\n",
       "      <td>Chocolate Sandwich Cookies</td>\n",
       "      <td>61.0</td>\n",
       "      <td>19.0</td>\n",
       "      <td>5.8</td>\n",
       "      <td>389851.0</td>\n",
       "      <td>709.0</td>\n",
       "      <td>prior</td>\n",
       "      <td>2.0</td>\n",
       "      <td>0.0</td>\n",
       "      <td>21.0</td>\n",
       "      <td>6.0</td>\n",
       "      <td>20.0</td>\n",
       "      <td>0.0</td>\n",
       "      <td>both</td>\n",
       "      <td>Mid-range product</td>\n",
       "      <td>Busiest Days</td>\n",
       "      <td>795637</td>\n",
       "      <td>Average orders</td>\n",
       "    </tr>\n",
       "    <tr>\n",
       "      <th>3</th>\n",
       "      <td>0.0</td>\n",
       "      <td>1</td>\n",
       "      <td>Chocolate Sandwich Cookies</td>\n",
       "      <td>61.0</td>\n",
       "      <td>19.0</td>\n",
       "      <td>5.8</td>\n",
       "      <td>652770.0</td>\n",
       "      <td>764.0</td>\n",
       "      <td>prior</td>\n",
       "      <td>1.0</td>\n",
       "      <td>3.0</td>\n",
       "      <td>13.0</td>\n",
       "      <td>NaN</td>\n",
       "      <td>10.0</td>\n",
       "      <td>0.0</td>\n",
       "      <td>both</td>\n",
       "      <td>Mid-range product</td>\n",
       "      <td>Slowest Days</td>\n",
       "      <td>2660954</td>\n",
       "      <td>Most orders</td>\n",
       "    </tr>\n",
       "    <tr>\n",
       "      <th>4</th>\n",
       "      <td>0.0</td>\n",
       "      <td>1</td>\n",
       "      <td>Chocolate Sandwich Cookies</td>\n",
       "      <td>61.0</td>\n",
       "      <td>19.0</td>\n",
       "      <td>5.8</td>\n",
       "      <td>1813452.0</td>\n",
       "      <td>764.0</td>\n",
       "      <td>prior</td>\n",
       "      <td>3.0</td>\n",
       "      <td>4.0</td>\n",
       "      <td>17.0</td>\n",
       "      <td>9.0</td>\n",
       "      <td>11.0</td>\n",
       "      <td>1.0</td>\n",
       "      <td>both</td>\n",
       "      <td>Mid-range product</td>\n",
       "      <td>Slowest Days</td>\n",
       "      <td>2087654</td>\n",
       "      <td>Most orders</td>\n",
       "    </tr>\n",
       "  </tbody>\n",
       "</table>\n",
       "</div>"
      ],
      "text/plain": [
       "   Unnamed: 0  product_id                product_name  aisle_id  \\\n",
       "0         0.0           1  Chocolate Sandwich Cookies      61.0   \n",
       "1         0.0           1  Chocolate Sandwich Cookies      61.0   \n",
       "2         0.0           1  Chocolate Sandwich Cookies      61.0   \n",
       "3         0.0           1  Chocolate Sandwich Cookies      61.0   \n",
       "4         0.0           1  Chocolate Sandwich Cookies      61.0   \n",
       "\n",
       "   department_id  prices   order_id  user_id eval_set  order_number  \\\n",
       "0           19.0     5.8  3139998.0    138.0    prior          28.0   \n",
       "1           19.0     5.8  1977647.0    138.0    prior          30.0   \n",
       "2           19.0     5.8   389851.0    709.0    prior           2.0   \n",
       "3           19.0     5.8   652770.0    764.0    prior           1.0   \n",
       "4           19.0     5.8  1813452.0    764.0    prior           3.0   \n",
       "\n",
       "   order_dow  order_hour_of_day  days_since_prior_order  add_to_cart_order  \\\n",
       "0        6.0               11.0                     3.0                5.0   \n",
       "1        6.0               17.0                    20.0                1.0   \n",
       "2        0.0               21.0                     6.0               20.0   \n",
       "3        3.0               13.0                     NaN               10.0   \n",
       "4        4.0               17.0                     9.0               11.0   \n",
       "\n",
       "   reordered _merge        price_label     busiest_day    count  \\\n",
       "0        0.0   both  Mid-range product  Regularly Busy  2736140   \n",
       "1        1.0   both  Mid-range product  Regularly Busy  2087654   \n",
       "2        0.0   both  Mid-range product    Busiest Days   795637   \n",
       "3        0.0   both  Mid-range product    Slowest Days  2660954   \n",
       "4        1.0   both  Mid-range product    Slowest Days  2087654   \n",
       "\n",
       "  busiest_period_of_day  \n",
       "0           Most orders  \n",
       "1           Most orders  \n",
       "2        Average orders  \n",
       "3           Most orders  \n",
       "4           Most orders  "
      ]
     },
     "execution_count": 144,
     "metadata": {},
     "output_type": "execute_result"
    }
   ],
   "source": [
    "ords_prods_merge.head()"
   ]
  },
  {
   "cell_type": "code",
   "execution_count": 145,
   "id": "c4fc600e-2a42-4db4-98a4-69074f1677d7",
   "metadata": {},
   "outputs": [],
   "source": [
    "# Export data to pkl\n",
    "ords_prods_merge.to_pickle(os.path.join(path, '02 Data','Prepared Data', 'ords_prods_merge_new.pkl'))"
   ]
  }
 ],
 "metadata": {
  "kernelspec": {
   "display_name": "Python [conda env:base] *",
   "language": "python",
   "name": "conda-base-py"
  },
  "language_info": {
   "codemirror_mode": {
    "name": "ipython",
    "version": 3
   },
   "file_extension": ".py",
   "mimetype": "text/x-python",
   "name": "python",
   "nbconvert_exporter": "python",
   "pygments_lexer": "ipython3",
   "version": "3.13.5"
  }
 },
 "nbformat": 4,
 "nbformat_minor": 5
}
